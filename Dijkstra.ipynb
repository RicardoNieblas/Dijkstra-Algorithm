{
 "cells": [
  {
   "attachments": {},
   "cell_type": "markdown",
   "id": "e7596248",
   "metadata": {},
   "source": [
    "# **Dijkstra’s algorithm analysis**\n",
    "\n",
    "| Class code        | ICC006 |\n",
    "| :-                | :- |\n",
    "| **Members**  | 34735 - Ricardo Nieblas Cabrera <br> 34559 - Julián Haniel Ocampo Rodríguez <br> 31480 - Enrique Navarro Payán <br> 34630 - Teodoro González Tellado |\n",
    "| **Date**          | 24/05/2023 |\n",
    "\n",
    "### **Project structure** <!-- Add quick links to each section -->\n",
    "\n",
    "1. [**Introduction**](#1-introduction)\n",
    "2. [**Pseudocode and asymptotic analysis**](#2-pseudocode-and-asymptotic-analysis)\n",
    "3. [**Study case**](#3-study-case)\n",
    "4. [**Dataset characteristics**](#4-dataset-characteristics)\n",
    "5. [**Implementation**](#5-implementation)\n",
    "\n",
    "#\n",
    "\n",
    "### **1. Introduction**\n",
    "\n",
    "**Graph theory: Transitive closure problem.** Suppose an air-travel network with many airline carriers. Stakeholder interested in knowing: what are the cheapest flights and paths between two locations? What locations are connected by a single airline?\n",
    "\n",
    "Dijkstra's algorithm was developed by Edsger W. Dijkstra, a dutch computer scientist, in 1956 at the Mathematical Center in Amsterdam, Netherlands. Based on \"greedy algorithms\" paradigm, this algorithm makes local optimal choices on each step taken so it can find a global optimal solution. The class of problem addressed is the estimation of trajectories. This problem consists of finding the shortest path between two nodes of a graph iteratively. Dijkstra's algorithm was developed for the von Neumann architecture, which is the classical computational model used by most computers today.\n",
    "\n",
    "<figure> <img src = \"img/von_neumann.png\" alt = \"Von Neumann Arquitecture\" width = \"400\" height = \"300\"> <figcaption> Von Neumann Arquitecture </figcaption> </figure>\n",
    "\n",
    "Assuming that all edge weights are positive, the algorithm will have an exact solution. However, if there are negative edge weights, the algorithm will not be able to find the shortest path. If we were to need to have negative edge weights, we would have to use the Bellman-Ford algorithm.\n",
    "\n",
    "**Time complexity:** It will depend on the implementation of the constructor in the DijkstraDistance superclass. If you use Dijkstra with a priority queue, the complexity would be approximately $ O((V + E) log V) $, since in the worst case you need to update and select vertices with the minimum distance in each iteration of the Dijkstra algorithm.\n",
    "\n",
    "#\n",
    "\n",
    "### **2. Pseudocode and asymptotic analysis**\n",
    "\n",
    "#### **2.1. Functions**\n",
    "\n",
    "1. [`getSourceData`](#23-getsourcedatav-source)\n",
    "2. [`getIncomingEdge`](#24-getincomingedgev-source-v-target)\n",
    "3. [`getIncomingEdgeMap`](#25-getincomingedgemapv-source)\n",
    "4. [`getPath`](#26-getpathv-source-v-target)\n",
    "5. [`getIncomingEdgeMap`](#27-getincomingedgemapv-source-int-numdests)\n",
    "\n",
    "#### **2.2. Data structure elements**\n",
    "\n",
    "The representation is based on the concept of graphs. In our case, our nodes will have the following elements:\n",
    "\n",
    "- **A label or identifier:** unique name of a node\n",
    "- **A set of edges:** The connections between the node and other nodes\n",
    "- **Cost or distance:** The cost of the connection between the node and other nodes\n",
    "\n",
    "<figure> <img src = \"img/graph_structure.jpeg\" alt = \"Graph structure\" width = \"300\" height = \"200\"> <figcaption> Graph structure </figcaption> </figure>\n",
    "\n",
    "#### **2.3. `getSourceData(V source)`**\n",
    "\n",
    "**Time complexity:** $ O(1) $\n",
    "\n",
    "The search in the sourceMap is performed in constant time, since it is based on the source key. The creation of a new SourcePathData object also has constant time complexity.\n",
    "\n",
    "```java\n",
    "@Override\n",
    "protected SourceData getSourceData(V source) {\n",
    "    SourceData sd = sourceMap.get(source);\n",
    "    if (sd == null)\n",
    "        sd = new SourcePathData(source);\n",
    "    return sd;\n",
    "}\n",
    "```\n",
    "\n",
    "#### **2.4. `getIncomingEdge(V source, V target)`**\n",
    "\n",
    "**Time complexity:** $ O((V + E) log V) $\n",
    "\n",
    "The complexity will depend on the performance of singleSourceShortestPath and the operations used within it. If singleSourceShortestPath implements Dijkstra's algorithm with a priority queue, the complexity will be as mentioned previously in the worst case.\n",
    "\n",
    "```java\n",
    "public E getIncomingEdge(V source, V target) {\n",
    "    if (!g.containsVertex(source))\n",
    "        throw new IllegalArgumentException(\"Specified source vertex \" + \n",
    "                source + \" is not part of graph \" + g);\n",
    "    \n",
    "    if (!g.containsVertex(target))\n",
    "        throw new IllegalArgumentException(\"Specified target vertex \" + \n",
    "                target + \" is not part of graph \" + g);\n",
    "\n",
    "    Set<V> targets = new HashSet<V>();\n",
    "    targets.add(target);\n",
    "    singleSourceShortestPath(source, targets, g.getVertexCount());\n",
    "    Map<V,E> incomingEdgeMap = \n",
    "        ((SourcePathData)sourceMap.get(source)).incomingEdges;\n",
    "    E incomingEdge = incomingEdgeMap.get(target);\n",
    "    \n",
    "    if (!cached)\n",
    "        reset(source);\n",
    "    \n",
    "    return incomingEdge;\n",
    "}\n",
    "```\n",
    "\n",
    "#### **2.5. `getIncomingEdgeMap(V source)`**\n",
    "\n",
    "**Time complexity:** $ O((V + E) log V) $\n",
    "\n",
    "Like the previous method, if singleSourceShortestPath uses Dijkstra's algorithm with a priority queue, the complexity will be as previously mentioned in the worst case.\n",
    "\n",
    "```java\n",
    "public Map<V,E> getIncomingEdgeMap(V source) {\n",
    "    return getIncomingEdgeMap(source, g.getVertexCount());\n",
    "}\n",
    "```\n",
    "\n",
    "#### **2.6. `getPath(V source, V target)`**\n",
    "\n",
    "**Time complexity:** $ O((V + E) log V) $\n",
    "\n",
    "The complexity depends on the implementation of singleSourceShortestPath and the operations used within it. If Dijkstra's algorithm with a priority queue is used, the complexity will be as mentioned in the worst case.\n",
    "\n",
    "```java\n",
    "public List<E> getPath(V source, V target) {\n",
    "    if(!g.containsVertex(source)) \n",
    "        throw new IllegalArgumentException(\"Specified source vertex \" + \n",
    "                source + \" is not part of graph \" + g);\n",
    "    \n",
    "    if(!g.containsVertex(target)) \n",
    "        throw new IllegalArgumentException(\"Specified target vertex \" + \n",
    "                target + \" is not part of graph \" + g);\n",
    "    \n",
    "    LinkedList<E> path = new LinkedList<E>();\n",
    "\n",
    "    Set<V> targets = new HashSet<V>();\n",
    "    targets.add(target);\n",
    "    singleSourceShortestPath(source, targets, g.getVertexCount());\n",
    "    Map<V,E> incomingEdges = \n",
    "        ((SourcePathData)sourceMap.get(source)).incomingEdges;\n",
    "    \n",
    "    if (incomingEdges.isEmpty() || incomingEdges.get(target) == null)\n",
    "        return path;\n",
    "    V current = target;\n",
    "    while (!current.equals(source))\n",
    "    {\n",
    "        E incoming = incomingEdges.get(current);\n",
    "        path.addFirst(incoming);\n",
    "        current = ((Graph<V,E>)g).getOpposite(current, incoming);\n",
    "    }\n",
    "    return path;\n",
    "}\n",
    "```\n",
    "\n",
    "#### **2.7. `getIncomingEdgeMap(V source, int numDests)`**\n",
    "\n",
    "**Time complexity:** $ O((V + E) log V) $\n",
    "\n",
    "Like the previous method, if singleSourceShortestPath uses Dijkstra's algorithm with a priority queue, the complexity will be as previously mentioned in the worst case.\n",
    "\n",
    "```java\n",
    "public LinkedHashMap<V,E> getIncomingEdgeMap(V source, int numDests) {\n",
    "    if (g.getVertices().contains(source) == false)\n",
    "        throw new IllegalArgumentException(\"Specified source vertex \" + \n",
    "                source + \" is not part of graph \" + g);\n",
    "\n",
    "    if (numDests < 1 || numDests > g.getVertexCount())\n",
    "        throw new IllegalArgumentException(\"numDests must be >= 1 \" + \n",
    "        \"and <= g.numVertices()\");\n",
    "\n",
    "    singleSourceShortestPath(source, null, numDests);\n",
    "    \n",
    "    LinkedHashMap<V,E> incomingEdgeMap = \n",
    "        ((SourcePathData)sourceMap.get(source)).incomingEdges;\n",
    "    \n",
    "    if (!cached)\n",
    "        reset(source);\n",
    "    \n",
    "    return incomingEdgeMap;        \n",
    "}\n",
    "```\n",
    "\n",
    "#\n",
    "\n",
    "### **3. Study case**\n",
    "\n",
    "Our study case will be the implementation of Dijkstra's algorithm in a graph. The graph we are using comes from Stanford's SNAP collection of datasets. More specifically, we are targetting the road networks section of the collection. The dataset we are using is the [California Road Network](https://snap.stanford.edu/data/ca-GrQc.html), containing 1,965,206 nodes and 2,766,607 edges. Intersections and endpoints are represented by nodes and the roads connecting these intersections or road endpoints are represented by undirected edges.\n",
    "\n",
    "#\n",
    "\n",
    "### **4. Dataset characteristics**"
   ]
  },
  {
   "cell_type": "markdown",
   "id": "196ab12d",
   "metadata": {},
   "source": [
    "# **GETTING STARTED...**"
   ]
  },
  {
   "cell_type": "code",
   "execution_count": null,
   "id": "528ea8ac",
   "metadata": {},
   "outputs": [],
   "source": [
    "import warnings\n",
    "warnings.filterwarnings('ignore')"
   ]
  },
  {
   "cell_type": "code",
   "execution_count": 20,
   "id": "d054f2e5",
   "metadata": {},
   "outputs": [],
   "source": [
    "import networkx as nx                    # Graph modelling see https://networkx.github.io/\n",
    "import numpy as np\n",
    "import json\n",
    "\n",
    "import pandas as pd                      # Metrics\n",
    "from abc import ABCMeta, abstractmethod  # Metrics\n",
    "\n",
    "\n",
    "from sklearn.manifold import TSNE        # Statistical data analysis\n",
    "from plotly.offline import init_notebook_mode, iplot, plot\n",
    "import plotly.graph_objs as go\n",
    "\n",
    "#from sklearn.cluster import DBSCAN       # Clustering\n",
    "#import hdbscan \n",
    "from sklearn.datasets import make_blobs\n",
    "\n",
    "import matplotlib.pyplot as plt           # Visualization\n",
    "from matplotlib.pyplot import *\n",
    "import seaborn as sns\n",
    "%matplotlib inline"
   ]
  },
  {
   "cell_type": "code",
   "execution_count": 2,
   "id": "13acc7e2",
   "metadata": {},
   "outputs": [],
   "source": [
    "data = pd.read_csv('GraphTest.csv')"
   ]
  },
  {
   "cell_type": "markdown",
   "id": "c90b411d",
   "metadata": {},
   "source": [
    "# **METRICS**"
   ]
  },
  {
   "cell_type": "code",
   "execution_count": 3,
   "id": "2f3f51f9",
   "metadata": {
    "scrolled": true
   },
   "outputs": [
    {
     "data": {
      "text/html": [
       "<div>\n",
       "<style scoped>\n",
       "    .dataframe tbody tr th:only-of-type {\n",
       "        vertical-align: middle;\n",
       "    }\n",
       "\n",
       "    .dataframe tbody tr th {\n",
       "        vertical-align: top;\n",
       "    }\n",
       "\n",
       "    .dataframe thead th {\n",
       "        text-align: right;\n",
       "    }\n",
       "</style>\n",
       "<table border=\"1\" class=\"dataframe\">\n",
       "  <thead>\n",
       "    <tr style=\"text-align: right;\">\n",
       "      <th></th>\n",
       "      <th>from</th>\n",
       "      <th>to</th>\n",
       "      <th>weight</th>\n",
       "    </tr>\n",
       "  </thead>\n",
       "  <tbody>\n",
       "    <tr>\n",
       "      <th>0</th>\n",
       "      <td>0</td>\n",
       "      <td>1</td>\n",
       "      <td>8</td>\n",
       "    </tr>\n",
       "    <tr>\n",
       "      <th>1</th>\n",
       "      <td>0</td>\n",
       "      <td>2</td>\n",
       "      <td>6</td>\n",
       "    </tr>\n",
       "    <tr>\n",
       "      <th>2</th>\n",
       "      <td>0</td>\n",
       "      <td>469</td>\n",
       "      <td>6</td>\n",
       "    </tr>\n",
       "    <tr>\n",
       "      <th>3</th>\n",
       "      <td>1</td>\n",
       "      <td>0</td>\n",
       "      <td>0</td>\n",
       "    </tr>\n",
       "    <tr>\n",
       "      <th>4</th>\n",
       "      <td>1</td>\n",
       "      <td>6</td>\n",
       "      <td>0</td>\n",
       "    </tr>\n",
       "    <tr>\n",
       "      <th>5</th>\n",
       "      <td>1</td>\n",
       "      <td>385</td>\n",
       "      <td>8</td>\n",
       "    </tr>\n",
       "    <tr>\n",
       "      <th>6</th>\n",
       "      <td>2</td>\n",
       "      <td>0</td>\n",
       "      <td>6</td>\n",
       "    </tr>\n",
       "    <tr>\n",
       "      <th>7</th>\n",
       "      <td>2</td>\n",
       "      <td>3</td>\n",
       "      <td>8</td>\n",
       "    </tr>\n",
       "    <tr>\n",
       "      <th>8</th>\n",
       "      <td>469</td>\n",
       "      <td>0</td>\n",
       "      <td>5</td>\n",
       "    </tr>\n",
       "    <tr>\n",
       "      <th>9</th>\n",
       "      <td>469</td>\n",
       "      <td>380</td>\n",
       "      <td>3</td>\n",
       "    </tr>\n",
       "    <tr>\n",
       "      <th>10</th>\n",
       "      <td>469</td>\n",
       "      <td>37415</td>\n",
       "      <td>3</td>\n",
       "    </tr>\n",
       "    <tr>\n",
       "      <th>11</th>\n",
       "      <td>6</td>\n",
       "      <td>1</td>\n",
       "      <td>2</td>\n",
       "    </tr>\n",
       "    <tr>\n",
       "      <th>12</th>\n",
       "      <td>6</td>\n",
       "      <td>5</td>\n",
       "      <td>0</td>\n",
       "    </tr>\n",
       "    <tr>\n",
       "      <th>13</th>\n",
       "      <td>385</td>\n",
       "      <td>1</td>\n",
       "      <td>9</td>\n",
       "    </tr>\n",
       "    <tr>\n",
       "      <th>14</th>\n",
       "      <td>385</td>\n",
       "      <td>384</td>\n",
       "      <td>4</td>\n",
       "    </tr>\n",
       "    <tr>\n",
       "      <th>15</th>\n",
       "      <td>385</td>\n",
       "      <td>386</td>\n",
       "      <td>2</td>\n",
       "    </tr>\n",
       "    <tr>\n",
       "      <th>16</th>\n",
       "      <td>3</td>\n",
       "      <td>2</td>\n",
       "      <td>7</td>\n",
       "    </tr>\n",
       "    <tr>\n",
       "      <th>17</th>\n",
       "      <td>3</td>\n",
       "      <td>4</td>\n",
       "      <td>9</td>\n",
       "    </tr>\n",
       "    <tr>\n",
       "      <th>18</th>\n",
       "      <td>3</td>\n",
       "      <td>419</td>\n",
       "      <td>0</td>\n",
       "    </tr>\n",
       "    <tr>\n",
       "      <th>19</th>\n",
       "      <td>3</td>\n",
       "      <td>422</td>\n",
       "      <td>6</td>\n",
       "    </tr>\n",
       "  </tbody>\n",
       "</table>\n",
       "</div>"
      ],
      "text/plain": [
       "    from     to  weight\n",
       "0      0      1       8\n",
       "1      0      2       6\n",
       "2      0    469       6\n",
       "3      1      0       0\n",
       "4      1      6       0\n",
       "5      1    385       8\n",
       "6      2      0       6\n",
       "7      2      3       8\n",
       "8    469      0       5\n",
       "9    469    380       3\n",
       "10   469  37415       3\n",
       "11     6      1       2\n",
       "12     6      5       0\n",
       "13   385      1       9\n",
       "14   385    384       4\n",
       "15   385    386       2\n",
       "16     3      2       7\n",
       "17     3      4       9\n",
       "18     3    419       0\n",
       "19     3    422       6"
      ]
     },
     "execution_count": 3,
     "metadata": {},
     "output_type": "execute_result"
    }
   ],
   "source": [
    "data.head(20)"
   ]
  },
  {
   "cell_type": "code",
   "execution_count": 4,
   "id": "1c3aeb8e",
   "metadata": {
    "scrolled": true
   },
   "outputs": [
    {
     "data": {
      "text/plain": [
       "from      979857.915873\n",
       "to        979857.915873\n",
       "weight         4.500547\n",
       "dtype: float64"
      ]
     },
     "execution_count": 4,
     "metadata": {},
     "output_type": "execute_result"
    }
   ],
   "source": [
    "data.mean()"
   ]
  },
  {
   "cell_type": "code",
   "execution_count": 5,
   "id": "de1672bc",
   "metadata": {
    "scrolled": true
   },
   "outputs": [
    {
     "data": {
      "text/plain": [
       "from      1971280\n",
       "to        1971280\n",
       "weight          9\n",
       "dtype: int64"
      ]
     },
     "execution_count": 5,
     "metadata": {},
     "output_type": "execute_result"
    }
   ],
   "source": [
    "data.max()"
   ]
  },
  {
   "cell_type": "code",
   "execution_count": 6,
   "id": "794981d7",
   "metadata": {},
   "outputs": [
    {
     "data": {
      "text/plain": [
       "from      3.224220e+11\n",
       "to        3.224220e+11\n",
       "weight    8.250451e+00\n",
       "dtype: float64"
      ]
     },
     "execution_count": 6,
     "metadata": {},
     "output_type": "execute_result"
    }
   ],
   "source": [
    "data.var()"
   ]
  },
  {
   "cell_type": "code",
   "execution_count": 7,
   "id": "19ccddc1",
   "metadata": {
    "scrolled": true
   },
   "outputs": [
    {
     "data": {
      "text/plain": [
       "from      567822.17749\n",
       "to        567822.17749\n",
       "weight         2.87236\n",
       "dtype: float64"
      ]
     },
     "execution_count": 7,
     "metadata": {},
     "output_type": "execute_result"
    }
   ],
   "source": [
    "data.std()"
   ]
  },
  {
   "cell_type": "code",
   "execution_count": 8,
   "id": "5099baf3",
   "metadata": {
    "scrolled": true
   },
   "outputs": [
    {
     "data": {
      "text/plain": [
       "from      977900.5\n",
       "to        977900.5\n",
       "weight         5.0\n",
       "Name: 0.5, dtype: float64"
      ]
     },
     "execution_count": 8,
     "metadata": {},
     "output_type": "execute_result"
    }
   ],
   "source": [
    "data.quantile()"
   ]
  },
  {
   "cell_type": "markdown",
   "id": "c71e4726",
   "metadata": {},
   "source": [
    "**--------------------------------------    DEGREE    --------------------------------------**"
   ]
  },
  {
   "cell_type": "markdown",
   "id": "88ec1816",
   "metadata": {},
   "source": [
    "*Degree*"
   ]
  },
  {
   "cell_type": "code",
   "execution_count": 9,
   "id": "f5022e28",
   "metadata": {},
   "outputs": [
    {
     "data": {
      "image/png": "[encoded data removed]",
      "text/plain": [
       "<Figure size 432x288 with 1 Axes>"
      ]
     },
     "metadata": {
      "needs_background": "light"
     },
     "output_type": "display_data"
    }
   ],
   "source": [
    "G = nx.Graph()\n",
    "\n",
    "for index, row in data.iterrows():\n",
    "    G.add_edge(row['from'], row['to'], weight=row['weight']) # change row names if different\n",
    "\n",
    "# Calculate degree taking into account weights\n",
    "degree_dict = dict(G.degree(weight='weight'))\n",
    "\n",
    "# Histogram of degrees\n",
    "degrees = list(degree_dict.values())\n",
    "plt.hist(degrees, bins=range(min(degrees), max(degrees) + 1, 1), align='left')\n",
    "plt.title('Histogram of Node Degrees (Weighted)')\n",
    "plt.xlabel('Degree')\n",
    "plt.ylabel('Number of Nodes')\n",
    "plt.show()"
   ]
  },
  {
   "cell_type": "markdown",
   "id": "63475236",
   "metadata": {},
   "source": [
    "*Degree Centrality*"
   ]
  },
  {
   "cell_type": "code",
   "execution_count": 10,
   "id": "663cb3a2",
   "metadata": {
    "scrolled": false
   },
   "outputs": [
    {
     "data": {
      "image/png": "[encoded data removed]",
      "text/plain": [
       "<Figure size 432x288 with 1 Axes>"
      ]
     },
     "metadata": {
      "needs_background": "light"
     },
     "output_type": "display_data"
    }
   ],
   "source": [
    "# Calculate degree centrality\n",
    "centrality_dict = nx.degree_centrality(G)\n",
    "\n",
    "# Histogram of degree centralities\n",
    "centralities = list(centrality_dict.values())\n",
    "plt.hist(centralities)\n",
    "plt.title('Histogram of Node Degree Centralities')\n",
    "plt.xlabel('Degree Centrality')\n",
    "plt.ylabel('Number of Nodes')\n",
    "plt.show()"
   ]
  },
  {
   "cell_type": "markdown",
   "id": "e5819c0a",
   "metadata": {},
   "source": [
    "*Indegree Centrality WIP*"
   ]
  },
  {
   "cell_type": "code",
   "execution_count": null,
   "id": "2ea9bdf4",
   "metadata": {},
   "outputs": [],
   "source": [
    "G = nx.Graph()\n",
    "for index, row in data.iterrows():\n",
    "    G.add_edge(row['from'], row['to'], weight=row['weight']) # change row names if different\n",
    "\n",
    "# Calculate indegree centrality\n",
    "indegree_centrality_dict = nx.in_degree_centrality(G)\n",
    "\n",
    "indegree_centralities = list(indegree_centrality_dict.values())\n",
    "plt.hist(indegree_centralities)\n",
    "plt.title('Histogram of Node Indegree Centralities')\n",
    "plt.xlabel('Indegree Centrality')\n",
    "plt.ylabel('Number of Nodes')\n",
    "plt.show()"
   ]
  },
  {
   "cell_type": "markdown",
   "id": "1a0372f1",
   "metadata": {},
   "source": [
    "*Outdegree Centrality*"
   ]
  },
  {
   "cell_type": "code",
   "execution_count": 11,
   "id": "775de5dc",
   "metadata": {
    "scrolled": false
   },
   "outputs": [
    {
     "data": {
      "image/png": "[encoded data removed]",
      "text/plain": [
       "<Figure size 432x288 with 1 Axes>"
      ]
     },
     "metadata": {
      "needs_background": "light"
     },
     "output_type": "display_data"
    }
   ],
   "source": [
    "G = nx.DiGraph()\n",
    "\n",
    "for index, row in data.iterrows():\n",
    "    G.add_edge(row['from'], row['to'], weight=row['weight']) # change row names if different\n",
    "\n",
    "# Calculate outdegree centrality\n",
    "outdegree_centrality_dict = nx.out_degree_centrality(G)\n",
    "\n",
    "outdegree_centralities = list(outdegree_centrality_dict.values())\n",
    "plt.hist(outdegree_centralities)\n",
    "plt.title('Histogram of Node Outdegree Centralities')\n",
    "plt.xlabel('Outdegree Centrality')\n",
    "plt.ylabel('Number of Nodes')\n",
    "plt.show()"
   ]
  },
  {
   "cell_type": "markdown",
   "id": "96e0eeea",
   "metadata": {},
   "source": [
    "*Betweenness Centrality*"
   ]
  },
  {
   "cell_type": "code",
   "execution_count": null,
   "id": "c530a34c",
   "metadata": {},
   "outputs": [],
   "source": [
    "G = nx.DiGraph()\n",
    "\n",
    "for index, row in data.iterrows():\n",
    "    G.add_edge(row['from'], row['to'], weight=row['weight']) # change row names if different\n",
    "\n",
    "# Calculate betweenness centrality\n",
    "betweenness_centrality_dict = nx.betweenness_centrality(G, k=1000, weight='weight')\n",
    "\n",
    "# Histogram of betweenness centralities\n",
    "betweenness_centralities = list(betweenness_centrality_dict.values())\n",
    "plt.hist(betweenness_centralities)\n",
    "plt.title('Histogram of Node Betweenness Centralities')\n",
    "plt.xlabel('Betweenness Centrality')\n",
    "plt.ylabel('Number of Nodes')\n",
    "plt.show()"
   ]
  },
  {
   "cell_type": "markdown",
   "id": "8c44d0f0",
   "metadata": {},
   "source": [
    "*Closeness Centrality*"
   ]
  },
  {
   "cell_type": "code",
   "execution_count": null,
   "id": "c6dd01d6",
   "metadata": {},
   "outputs": [],
   "source": [
    "G = nx.Graph()\n",
    "\n",
    "for index, row in data.iterrows():\n",
    "    G.add_edge(row['from'], row['to'], weight=row['weight']) # change row names if different\n",
    "\n",
    "# Calculate closeness centrality\n",
    "closeness_centrality_dict = nx.closeness_centrality(G, distance='weight')\n",
    "\n",
    "# Histogram of closeness centralities\n",
    "closeness_centralities = list(closeness_centrality_dict.values())\n",
    "plt.hist(closeness_centralities)\n",
    "plt.title('Histogram of Node Closeness Centralities')\n",
    "plt.xlabel('Closeness Centrality')\n",
    "plt.ylabel('Number of Nodes')\n",
    "plt.show()"
   ]
  },
  {
   "cell_type": "markdown",
   "id": "3fee7766",
   "metadata": {},
   "source": [
    "*Local Reaching Centrality*"
   ]
  },
  {
   "cell_type": "code",
   "execution_count": null,
   "id": "bfa23c12",
   "metadata": {},
   "outputs": [],
   "source": [
    "G = nx.DiGraph()\n",
    "\n",
    "for index, row in data.iterrows():\n",
    "    G.add_edge(row['from'], row['to'], weight=row['weight']) # change row names if different\n",
    "\n",
    "# Calculate local reaching centrality\n",
    "def local_reaching_centrality(G, node):\n",
    "    return len(G.successors(node))/len(G.nodes())\n",
    "\n",
    "lrc_dict = {node: local_reaching_centrality(G, node) for node in G.nodes()}\n",
    "\n",
    "# Histogram of local reaching centralities\n",
    "lrc_values = list(lrc_dict.values())\n",
    "plt.hist(lrc_values)\n",
    "plt.title('Histogram of Node Local Reaching Centralities')\n",
    "plt.xlabel('Local Reaching Centrality')\n",
    "plt.ylabel('Number of Nodes')\n",
    "plt.show()"
   ]
  },
  {
   "cell_type": "markdown",
   "id": "e38ea695",
   "metadata": {},
   "source": [
    "*Katz Centrality*"
   ]
  },
  {
   "cell_type": "code",
   "execution_count": 14,
   "id": "ddbdb57e",
   "metadata": {
    "scrolled": true
   },
   "outputs": [
    {
     "data": {
      "image/png": "[encoded data removed]",
      "text/plain": [
       "<Figure size 432x288 with 1 Axes>"
      ]
     },
     "metadata": {
      "needs_background": "light"
     },
     "output_type": "display_data"
    }
   ],
   "source": [
    "G = nx.DiGraph()\n",
    "\n",
    "for index, row in data.iterrows():\n",
    "    G.add_edge(row['from'], row['to'], weight=row['weight']) # change row names if different\n",
    "\n",
    "# Calculate Katz centrality\n",
    "# Set the attenuation factor to a small value, say 0.1. It must be less than 1 over the absolute value of the largest eigenvalue of the adjacency matrix.\n",
    "katz_centrality_dict = nx.katz_centrality(G, 0.1)\n",
    "\n",
    "# Histogram of Katz centralities\n",
    "katz_centralities = list(katz_centrality_dict.values())\n",
    "plt.hist(katz_centralities)\n",
    "plt.title('Histogram of Node Katz Centralities')\n",
    "plt.xlabel('Katz Centrality')\n",
    "plt.ylabel('Number of Nodes')\n",
    "plt.show()"
   ]
  },
  {
   "cell_type": "markdown",
   "id": "de9db0a1",
   "metadata": {},
   "source": [
    "*Weight and Strenght*"
   ]
  },
  {
   "cell_type": "code",
   "execution_count": 15,
   "id": "e1355a68",
   "metadata": {
    "scrolled": true
   },
   "outputs": [
    {
     "data": {
      "image/png": "[encoded data removed]",
      "text/plain": [
       "<Figure size 432x288 with 1 Axes>"
      ]
     },
     "metadata": {
      "needs_background": "light"
     },
     "output_type": "display_data"
    }
   ],
   "source": [
    "G = nx.DiGraph()\n",
    "\n",
    "for index, row in data.iterrows():\n",
    "    G.add_edge(row['from'], row['to'], weight=row['weight']) # change row names if different\n",
    "\n",
    "# Calculate strength\n",
    "strength_dict = {node: sum([d['weight'] for n, d in G[node].items()]) for node in G.nodes()}\n",
    "\n",
    "# Plot histogram of node strengths\n",
    "strength_values = list(strength_dict.values())\n",
    "plt.hist(strength_values)\n",
    "plt.title('Histogram of Node Strengths')\n",
    "plt.xlabel('Strength')\n",
    "plt.ylabel('Number of Nodes')\n",
    "plt.show()"
   ]
  },
  {
   "cell_type": "markdown",
   "id": "5322eab4",
   "metadata": {},
   "source": [
    "*PageRank*"
   ]
  },
  {
   "cell_type": "code",
   "execution_count": null,
   "id": "d05cebaa",
   "metadata": {},
   "outputs": [],
   "source": [
    "G = nx.DiGraph()\n",
    "\n",
    "for index, row in data.iterrows():\n",
    "    G.add_edge(row['from'], row['to'], weight=row['weight']) # change row names if different\n",
    "\n",
    "# Calculate PageRank\n",
    "pagerank_dict = nx.pagerank(G, alpha=0.85)\n",
    "\n",
    "# Histogram of PageRank values\n",
    "pagerank_values = list(pagerank_dict.values())\n",
    "plt.hist(pagerank_values, bins=100)\n",
    "plt.title('Histogram of Node PageRank')\n",
    "plt.xlabel('PageRank')\n",
    "plt.ylabel('Number of Nodes')\n",
    "plt.show()"
   ]
  },
  {
   "cell_type": "markdown",
   "id": "b04af303",
   "metadata": {},
   "source": [
    "*HITS*"
   ]
  },
  {
   "cell_type": "code",
   "execution_count": 16,
   "id": "33023269",
   "metadata": {},
   "outputs": [
    {
     "data": {
      "image/png": "[encoded data removed]",
      "text/plain": [
       "<Figure size 432x288 with 1 Axes>"
      ]
     },
     "metadata": {
      "needs_background": "light"
     },
     "output_type": "display_data"
    },
    {
     "data": {
      "image/png": "[encoded data removed]",
      "text/plain": [
       "<Figure size 432x288 with 1 Axes>"
      ]
     },
     "metadata": {
      "needs_background": "light"
     },
     "output_type": "display_data"
    }
   ],
   "source": [
    "G = nx.DiGraph()\n",
    "\n",
    "for index, row in data.iterrows():\n",
    "    G.add_edge(row['from'], row['to'], weight=row['weight']) # change row names if different\n",
    "\n",
    "# Calculate HITS\n",
    "hits_hubs, hits_auth = nx.hits(G, max_iter=100)\n",
    "\n",
    "# Histogram of HITS hubs\n",
    "hits_hubs_values = list(hits_hubs.values())\n",
    "plt.hist(hits_hubs_values, bins=100)\n",
    "plt.title('Histogram of Node HITS Hubs')\n",
    "plt.xlabel('HITS Hubs')\n",
    "plt.ylabel('Number of Nodes')\n",
    "plt.show()\n",
    "\n",
    "# Histogram of HITS authorities\n",
    "hits_auth_values = list(hits_auth.values())\n",
    "plt.hist(hits_auth_values, bins=100)\n",
    "plt.title('Histogram of Node HITS Authorities')\n",
    "plt.xlabel('HITS Authorities')\n",
    "plt.ylabel('Number of Nodes')\n",
    "plt.show()"
   ]
  },
  {
   "cell_type": "markdown",
   "id": "60d3f634",
   "metadata": {},
   "source": [
    "**--------------------------------------    CLUSTERING    --------------------------------------**"
   ]
  },
  {
   "cell_type": "markdown",
   "id": "640519d9",
   "metadata": {},
   "source": [
    "*Clustering Coefficient*"
   ]
  },
  {
   "cell_type": "code",
   "execution_count": 17,
   "id": "3287eb40",
   "metadata": {
    "scrolled": true
   },
   "outputs": [
    {
     "data": {
      "image/png": "[encoded data removed]",
      "text/plain": [
       "<Figure size 432x288 with 1 Axes>"
      ]
     },
     "metadata": {
      "needs_background": "light"
     },
     "output_type": "display_data"
    }
   ],
   "source": [
    "G = nx.DiGraph()\n",
    "\n",
    "for index, row in data.iterrows():\n",
    "    G.add_edge(row['from'], row['to'], weight=row['weight']) # change row names if different\n",
    "\n",
    "# For clustering coefficient, we will consider the undirected version of the graph\n",
    "G_undirected = G.to_undirected()\n",
    "\n",
    "# Calculate clustering coefficient\n",
    "clustering_coefficient_dict = nx.clustering(G_undirected)\n",
    "\n",
    "# Histogram of clustering coefficients\n",
    "clustering_coefficient_values = list(clustering_coefficient_dict.values())\n",
    "plt.hist(clustering_coefficient_values, bins=100)\n",
    "plt.title('Histogram of Node Clustering Coefficients')\n",
    "plt.xlabel('Clustering Coefficient')\n",
    "plt.ylabel('Number of Nodes')\n",
    "plt.show()"
   ]
  },
  {
   "cell_type": "markdown",
   "id": "8583330f",
   "metadata": {},
   "source": [
    "*Weighted Clustering Coefficient*"
   ]
  },
  {
   "cell_type": "code",
   "execution_count": 18,
   "id": "170a44af",
   "metadata": {
    "scrolled": false
   },
   "outputs": [
    {
     "data": {
      "image/png": "[encoded data removed]",
      "text/plain": [
       "<Figure size 432x288 with 1 Axes>"
      ]
     },
     "metadata": {
      "needs_background": "light"
     },
     "output_type": "display_data"
    }
   ],
   "source": [
    "G = nx.DiGraph()\n",
    "\n",
    "for index, row in data.iterrows():\n",
    "    G.add_edge(row['from'], row['to'], weight=row['weight']) # change row names if different\n",
    "\n",
    "# For clustering coefficient, we will consider the undirected version of the graph\n",
    "G_undirected = G.to_undirected()\n",
    "\n",
    "# Calculate weighted clustering coefficient\n",
    "weighted_clustering_coefficient_dict = nx.clustering(G_undirected, weight='weight')\n",
    "\n",
    "# Histogram of weighted clustering coefficients\n",
    "weighted_clustering_coefficient_values = list(weighted_clustering_coefficient_dict.values())\n",
    "plt.hist(weighted_clustering_coefficient_values, bins=100)\n",
    "plt.title('Histogram of Node Weighted Clustering Coefficients')\n",
    "plt.xlabel('Weighted Clustering Coefficient')\n",
    "plt.ylabel('Number of Nodes')\n",
    "plt.show()"
   ]
  },
  {
   "cell_type": "markdown",
   "id": "6ee1b277",
   "metadata": {},
   "source": [
    "*K-Nearest-Neighbor*"
   ]
  },
  {
   "cell_type": "code",
   "execution_count": 22,
   "id": "596b8596",
   "metadata": {
    "scrolled": true
   },
   "outputs": [
    {
     "data": {
      "image/png": "[encoded data removed]",
      "text/plain": [
       "<Figure size 432x288 with 1 Axes>"
      ]
     },
     "metadata": {
      "needs_background": "light"
     },
     "output_type": "display_data"
    }
   ],
   "source": [
    "G = nx.DiGraph()\n",
    "\n",
    "for index, row in data.iterrows():\n",
    "    G.add_edge(row['from'], row['to'], weight=row['weight']) # change row names if different\n",
    "\n",
    "# Calculate average neighbor degree\n",
    "knn_dict = nx.average_neighbor_degree(G)\n",
    "\n",
    "# Histogram of average neighbor degrees\n",
    "knn_values = list(knn_dict.values())\n",
    "plt.hist(knn_values, bins=100)\n",
    "plt.title('Histogram of Node Average Neighbor Degree (KNN)')\n",
    "plt.xlabel('KNN')\n",
    "plt.ylabel('Number of Nodes')\n",
    "plt.show()"
   ]
  },
  {
   "cell_type": "markdown",
   "id": "0f85566e",
   "metadata": {},
   "source": [
    "*Weighted K-Nearest-Neighbor*"
   ]
  },
  {
   "cell_type": "code",
   "execution_count": 23,
   "id": "ddf8b7db",
   "metadata": {},
   "outputs": [
    {
     "name": "stderr",
     "output_type": "stream",
     "text": [
      "C:\\Users\\kikin\\AppData\\Local\\Temp\\ipykernel_32924\\2835405372.py:14: RuntimeWarning:\n",
      "\n",
      "invalid value encountered in longlong_scalars\n",
      "\n"
     ]
    },
    {
     "data": {
      "image/png": "[encoded data removed]",
      "text/plain": [
       "<Figure size 432x288 with 1 Axes>"
      ]
     },
     "metadata": {
      "needs_background": "light"
     },
     "output_type": "display_data"
    }
   ],
   "source": [
    "G = nx.DiGraph()\n",
    "\n",
    "for index, row in data.iterrows():\n",
    "    G.add_edge(row['from'], row['to'], weight=row['weight']) # change row names if different\n",
    "\n",
    "# Calculate weighted average neighbor degree\n",
    "weighted_knn_dict = {}\n",
    "for node in G.nodes:\n",
    "    weights = [data['weight'] for data in G[node].values()]\n",
    "    degrees = [G.degree(neighbor) for neighbor in G[node]]\n",
    "    if weights:\n",
    "        weighted_knn_dict[node] = sum(weight*degree for weight, degree in zip(weights, degrees))/sum(weights)\n",
    "    else:\n",
    "        weighted_knn_dict[node] = 0\n",
    "\n",
    "# Histogram of weighted average neighbor degrees\n",
    "weighted_knn_values = list(weighted_knn_dict.values())\n",
    "plt.hist(weighted_knn_values, bins=100)\n",
    "plt.title('Histogram of Node Weighted Average Neighbor Degree (Weighted KNN)')\n",
    "plt.xlabel('Weighted KNN')\n",
    "plt.ylabel('Number of Nodes')\n",
    "plt.show()"
   ]
  },
  {
   "cell_type": "markdown",
   "id": "7d0f25ff",
   "metadata": {},
   "source": [
    "**--------------------------------------    NETWORK LEVEL PROPERTIES    --------------------------------------**"
   ]
  },
  {
   "cell_type": "markdown",
   "id": "f52c63c9",
   "metadata": {},
   "source": [
    "*Degree Assortativity Coefficient*"
   ]
  },
  {
   "cell_type": "code",
   "execution_count": 24,
   "id": "011e14e3",
   "metadata": {
    "scrolled": true
   },
   "outputs": [
    {
     "name": "stdout",
     "output_type": "stream",
     "text": [
      "Degree Assortativity Coefficient: 0.12604167267908703\n"
     ]
    }
   ],
   "source": [
    "G = nx.DiGraph()\n",
    "\n",
    "for index, row in data.iterrows():\n",
    "    G.add_edge(row['from'], row['to'], weight=row['weight']) # change row names if different\n",
    "\n",
    "# Calculate degree assortativity coefficient\n",
    "degree_assortativity_coefficient = nx.degree_assortativity_coefficient(G)\n",
    "\n",
    "print(f'Degree Assortativity Coefficient: {degree_assortativity_coefficient}')"
   ]
  },
  {
   "cell_type": "markdown",
   "id": "57a1aa02",
   "metadata": {},
   "source": [
    "*Diameter*"
   ]
  },
  {
   "cell_type": "code",
   "execution_count": 25,
   "id": "28a5a84f",
   "metadata": {
    "scrolled": true
   },
   "outputs": [
    {
     "name": "stdout",
     "output_type": "stream",
     "text": [
      "The graph is not connected. Diameter is undefined.\n"
     ]
    }
   ],
   "source": [
    "G = nx.DiGraph()\n",
    "\n",
    "for index, row in data.iterrows():\n",
    "    G.add_edge(row['from'], row['to'], weight=row['weight']) # change row names if different\n",
    "\n",
    "# For diameter, we will consider the undirected version of the graph\n",
    "G_undirected = G.to_undirected()\n",
    "\n",
    "# Calculate diameter (Note: This can be time-consuming and memory-intensive for large graphs)\n",
    "try:\n",
    "    diameter = nx.diameter(G_undirected)\n",
    "    print(f'The diameter of the graph is {diameter}')\n",
    "except:\n",
    "    print('The graph is not connected. Diameter is undefined.')"
   ]
  },
  {
   "cell_type": "markdown",
   "id": "b2475ef4",
   "metadata": {},
   "source": [
    "*Global Reaching Centrality*"
   ]
  },
  {
   "cell_type": "code",
   "execution_count": null,
   "id": "2ab95db2",
   "metadata": {},
   "outputs": [],
   "source": [
    "G = nx.DiGraph()\n",
    "\n",
    "for index, row in data.iterrows():\n",
    "    G.add_edge(row['from'], row['to'], weight=row['weight']) # change row names if different\n",
    "\n",
    "# Calculate global reaching centrality (This can be time-consuming and memory-intensive for large graphs)\n",
    "N = len(G)\n",
    "global_reaching_centrality = {}\n",
    "for node in G.nodes:\n",
    "    s = sum(nx.shortest_path_length(G, node, t) for t in G.nodes if t != node)\n",
    "    global_reaching_centrality[node] = (N-1)/s\n",
    "\n",
    "# Printing the top 5 nodes with the highest global reaching centrality\n",
    "sorted_global_reaching_centrality = sorted(global_reaching_centrality.items(), key=lambda x: x[1], reverse=True)\n",
    "print(sorted_global_reaching_centrality[:5])"
   ]
  },
  {
   "cell_type": "markdown",
   "id": "eb2c2376",
   "metadata": {},
   "source": [
    "*Transitivity*"
   ]
  },
  {
   "cell_type": "code",
   "execution_count": 27,
   "id": "f3896016",
   "metadata": {
    "scrolled": true
   },
   "outputs": [
    {
     "name": "stdout",
     "output_type": "stream",
     "text": [
      "Transitivity: 0.06038741703627468\n"
     ]
    }
   ],
   "source": [
    "G = nx.DiGraph()\n",
    "\n",
    "for index, row in data.iterrows():\n",
    "    G.add_edge(row['from'], row['to'], weight=row['weight']) # change row names if different\n",
    "\n",
    "# Calculate transitivity\n",
    "transitivity = nx.transitivity(G)\n",
    "\n",
    "print(f'Transitivity: {transitivity}')"
   ]
  },
  {
   "cell_type": "markdown",
   "id": "5b28a80d",
   "metadata": {},
   "source": [
    "*Longest Path Length*"
   ]
  },
  {
   "cell_type": "code",
   "execution_count": 28,
   "id": "c49eb8bf",
   "metadata": {
    "scrolled": true
   },
   "outputs": [
    {
     "name": "stdout",
     "output_type": "stream",
     "text": [
      "The graph is not a Directed Acyclic Graph (DAG).\n"
     ]
    }
   ],
   "source": [
    "G = nx.DiGraph()\n",
    "\n",
    "for index, row in data.iterrows():\n",
    "    G.add_edge(row['from'], row['to'], weight=row['weight']) # change row names if different\n",
    "\n",
    "# Check if the graph is a Directed Acyclic Graph (DAG)\n",
    "if nx.is_directed_acyclic_graph(G):\n",
    "    # Calculate the longest path length\n",
    "    longest_path_length = nx.dag_longest_path_length(G)\n",
    "    print(f'The longest path length in the graph is {longest_path_length}')\n",
    "else:\n",
    "    print('The graph is not a Directed Acyclic Graph (DAG).')"
   ]
  },
  {
   "cell_type": "markdown",
   "id": "b62e4325",
   "metadata": {},
   "source": [
    "*Average Degree*"
   ]
  },
  {
   "cell_type": "code",
   "execution_count": 29,
   "id": "337fdf7a",
   "metadata": {
    "scrolled": false
   },
   "outputs": [
    {
     "name": "stdout",
     "output_type": "stream",
     "text": [
      "Average in-degree: 2.8155898160294646\n",
      "Average out-degree: 2.8155898160294646\n"
     ]
    }
   ],
   "source": [
    "# Create a directed graph\n",
    "G = nx.DiGraph()\n",
    "\n",
    "for index, row in data.iterrows():\n",
    "    G.add_edge(row['from'], row['to'], weight=row['weight']) # change row names if different\n",
    "\n",
    "# Calculate average degree\n",
    "average_in_degree = sum(d for n, d in G.in_degree()) / float(len(G))\n",
    "average_out_degree = sum(d for n, d in G.out_degree()) / float(len(G))\n",
    "\n",
    "print(f'Average in-degree: {average_in_degree}')\n",
    "print(f'Average out-degree: {average_out_degree}')"
   ]
  },
  {
   "cell_type": "markdown",
   "id": "7ce54d61",
   "metadata": {},
   "source": [
    "*Cycles*"
   ]
  },
  {
   "cell_type": "code",
   "execution_count": null,
   "id": "79cfac95",
   "metadata": {},
   "outputs": [],
   "source": [
    "# Create a directed graph\n",
    "G = nx.DiGraph()\n",
    "\n",
    "for index, row in data.iterrows():\n",
    "    G.add_edge(row['from'], row['to'], weight=row['weight']) # change row names if different\n",
    "\n",
    "# Find cycles (This can be time-consuming and memory-intensive for large graphs)\n",
    "cycles = list(nx.simple_cycles(G))\n",
    "\n",
    "# Print the number of cycles\n",
    "print(f'Number of cycles: {len(cycles)}')"
   ]
  },
  {
   "attachments": {},
   "cell_type": "markdown",
   "id": "de19bbfd",
   "metadata": {},
   "source": [
    "*Implementation*"
   ]
  },
  {
   "cell_type": "code",
   "execution_count": 1,
   "id": "9ccd83e5",
   "metadata": {},
   "outputs": [
    {
     "name": "stdout",
     "output_type": "stream",
     "text": [
      "['0', '1', '6', '5', '4', '98', '470', '410', '405', '404', '333', '332', '35734', '35731', '35693', '35694', '35452', '35451', '35689', '35440', '35943', '3255', '29', '30', '31', '3246', '2203', '2146', '2147', '2148', '2119', '2120', '2121', '2122', '3109', '3140', '3138', '3139', '3117', '3112', '2077', '4415', '4414', '41890', '670', '671', '109344', '109343', '109359', '109361', '109362', '109364', '109367', '784', '770', '781', '785', '832', '831', '845']\n",
      "183.0\n"
     ]
    }
   ],
   "source": [
    "import csv\n",
    "import networkx as nx\n",
    "import matplotlib.pyplot as plt\n",
    "\n",
    "# Creates an empty graph\n",
    "G = nx.Graph()\n",
    "\n",
    "# Reads the CSV and add edges to the graph\n",
    "with open('GraphTest.csv') as f:\n",
    "    reader = csv.reader(f)\n",
    "    next(reader)  # Skip the header row\n",
    "    for row in reader:\n",
    "        source = row[0]\n",
    "        target = row[1]\n",
    "        weight = float(row[2])\n",
    "        G.add_edge(source, target, weight=weight)\n",
    "\n",
    "# The starting and target nodes\n",
    "start_node = '0'\n",
    "target_node = '845'\n",
    "\n",
    "# Runs Dijkstra's algorithm\n",
    "path = nx.dijkstra_path(G, start_node, target_node)\n",
    "\n",
    "# Prints the shortest path\n",
    "print(path)\n",
    "\n",
    "# Gets the length of the shortest path\n",
    "length = nx.dijkstra_path_length(G, start_node, target_node)\n",
    "\n",
    "# Prints the length\n",
    "print(length)"
   ]
  },
  {
   "cell_type": "code",
   "execution_count": 2,
   "id": "c42ef058",
   "metadata": {},
   "outputs": [
    {
     "ename": "ModuleNotFoundError",
     "evalue": "No module named 'scipy'",
     "output_type": "error",
     "traceback": [
      "\u001b[0;31m---------------------------------------------------------------------------\u001b[0m",
      "\u001b[0;31mModuleNotFoundError\u001b[0m                       Traceback (most recent call last)",
      "Cell \u001b[0;32mIn[2], line 15\u001b[0m\n\u001b[1;32m     11\u001b[0m df \u001b[39m=\u001b[39m df\u001b[39m.\u001b[39mrename({\u001b[39m'\u001b[39m\u001b[39m2\u001b[39m\u001b[39m'\u001b[39m: \u001b[39m'\u001b[39m\u001b[39mfrom\u001b[39m\u001b[39m'\u001b[39m, \u001b[39m'\u001b[39m\u001b[39m1\u001b[39m\u001b[39m'\u001b[39m: \u001b[39m'\u001b[39m\u001b[39mto\u001b[39m\u001b[39m'\u001b[39m, \u001b[39m'\u001b[39m\u001b[39m9\u001b[39m\u001b[39m'\u001b[39m: \u001b[39m'\u001b[39m\u001b[39mweight\u001b[39m\u001b[39m'\u001b[39m}, axis \u001b[39m=\u001b[39m \u001b[39m1\u001b[39m)\n\u001b[1;32m     13\u001b[0m Graph \u001b[39m=\u001b[39m networkx\u001b[39m.\u001b[39mfrom_pandas_edgelist(df, source \u001b[39m=\u001b[39m \u001b[39m'\u001b[39m\u001b[39mfrom\u001b[39m\u001b[39m'\u001b[39m, target \u001b[39m=\u001b[39m \u001b[39m'\u001b[39m\u001b[39mto\u001b[39m\u001b[39m'\u001b[39m, edge_attr \u001b[39m=\u001b[39m \u001b[39m'\u001b[39m\u001b[39mweight\u001b[39m\u001b[39m'\u001b[39m)\n\u001b[0;32m---> 15\u001b[0m pos \u001b[39m=\u001b[39m networkx\u001b[39m.\u001b[39;49mspring_layout(Graph, k \u001b[39m=\u001b[39;49m \u001b[39m10\u001b[39;49m)\n\u001b[1;32m     16\u001b[0m networkx\u001b[39m.\u001b[39mdraw_networkx(Graph, pos, with_labels \u001b[39m=\u001b[39m \u001b[39mTrue\u001b[39;00m)\n\u001b[1;32m     17\u001b[0m labels \u001b[39m=\u001b[39m {e: Graph\u001b[39m.\u001b[39medges[e][\u001b[39m'\u001b[39m\u001b[39mweight\u001b[39m\u001b[39m'\u001b[39m] \u001b[39mfor\u001b[39;00m e \u001b[39min\u001b[39;00m Graph\u001b[39m.\u001b[39medges}\n",
      "File \u001b[0;32m/Library/Frameworks/Python.framework/Versions/3.11/lib/python3.11/site-packages/networkx/utils/decorators.py:766\u001b[0m, in \u001b[0;36margmap.__call__.<locals>.func\u001b[0;34m(_argmap__wrapper, *args, **kwargs)\u001b[0m\n\u001b[1;32m    765\u001b[0m \u001b[39mdef\u001b[39;00m \u001b[39mfunc\u001b[39m(\u001b[39m*\u001b[39margs, __wrapper\u001b[39m=\u001b[39m\u001b[39mNone\u001b[39;00m, \u001b[39m*\u001b[39m\u001b[39m*\u001b[39mkwargs):\n\u001b[0;32m--> 766\u001b[0m     \u001b[39mreturn\u001b[39;00m argmap\u001b[39m.\u001b[39;49m_lazy_compile(__wrapper)(\u001b[39m*\u001b[39;49margs, \u001b[39m*\u001b[39;49m\u001b[39m*\u001b[39;49mkwargs)\n",
      "File \u001b[0;32m<class 'networkx.utils.decorators.argmap'> compilation 8:4\u001b[0m, in \u001b[0;36margmap_spring_layout_5\u001b[0;34m(G, k, pos, fixed, iterations, threshold, weight, scale, center, dim, seed)\u001b[0m\n\u001b[1;32m      2\u001b[0m \u001b[39mimport\u001b[39;00m \u001b[39mcollections\u001b[39;00m\n\u001b[1;32m      3\u001b[0m \u001b[39mimport\u001b[39;00m \u001b[39mgzip\u001b[39;00m\n\u001b[0;32m----> 4\u001b[0m \u001b[39mimport\u001b[39;00m \u001b[39minspect\u001b[39;00m\n\u001b[1;32m      5\u001b[0m \u001b[39mimport\u001b[39;00m \u001b[39mitertools\u001b[39;00m\n\u001b[1;32m      6\u001b[0m \u001b[39mimport\u001b[39;00m \u001b[39mre\u001b[39;00m\n",
      "File \u001b[0;32m/Library/Frameworks/Python.framework/Versions/3.11/lib/python3.11/site-packages/networkx/drawing/layout.py:477\u001b[0m, in \u001b[0;36mspring_layout\u001b[0;34m(G, k, pos, fixed, iterations, threshold, weight, scale, center, dim, seed)\u001b[0m\n\u001b[1;32m    475\u001b[0m \u001b[39mif\u001b[39;00m \u001b[39mlen\u001b[39m(G) \u001b[39m<\u001b[39m \u001b[39m500\u001b[39m:  \u001b[39m# sparse solver for large graphs\u001b[39;00m\n\u001b[1;32m    476\u001b[0m     \u001b[39mraise\u001b[39;00m \u001b[39mValueError\u001b[39;00m\n\u001b[0;32m--> 477\u001b[0m A \u001b[39m=\u001b[39m nx\u001b[39m.\u001b[39;49mto_scipy_sparse_array(G, weight\u001b[39m=\u001b[39;49mweight, dtype\u001b[39m=\u001b[39;49m\u001b[39m\"\u001b[39;49m\u001b[39mf\u001b[39;49m\u001b[39m\"\u001b[39;49m)\n\u001b[1;32m    478\u001b[0m \u001b[39mif\u001b[39;00m k \u001b[39mis\u001b[39;00m \u001b[39mNone\u001b[39;00m \u001b[39mand\u001b[39;00m fixed \u001b[39mis\u001b[39;00m \u001b[39mnot\u001b[39;00m \u001b[39mNone\u001b[39;00m:\n\u001b[1;32m    479\u001b[0m     \u001b[39m# We must adjust k by domain size for layouts not near 1x1\u001b[39;00m\n\u001b[1;32m    480\u001b[0m     nnodes, _ \u001b[39m=\u001b[39m A\u001b[39m.\u001b[39mshape\n",
      "File \u001b[0;32m/Library/Frameworks/Python.framework/Versions/3.11/lib/python3.11/site-packages/networkx/convert_matrix.py:546\u001b[0m, in \u001b[0;36mto_scipy_sparse_array\u001b[0;34m(G, nodelist, dtype, weight, format)\u001b[0m\n\u001b[1;32m    466\u001b[0m \u001b[39mdef\u001b[39;00m \u001b[39mto_scipy_sparse_array\u001b[39m(G, nodelist\u001b[39m=\u001b[39m\u001b[39mNone\u001b[39;00m, dtype\u001b[39m=\u001b[39m\u001b[39mNone\u001b[39;00m, weight\u001b[39m=\u001b[39m\u001b[39m\"\u001b[39m\u001b[39mweight\u001b[39m\u001b[39m\"\u001b[39m, \u001b[39mformat\u001b[39m\u001b[39m=\u001b[39m\u001b[39m\"\u001b[39m\u001b[39mcsr\u001b[39m\u001b[39m\"\u001b[39m):\n\u001b[1;32m    467\u001b[0m \u001b[39m    \u001b[39m\u001b[39m\"\"\"Returns the graph adjacency matrix as a SciPy sparse array.\u001b[39;00m\n\u001b[1;32m    468\u001b[0m \n\u001b[1;32m    469\u001b[0m \u001b[39m    Parameters\u001b[39;00m\n\u001b[0;32m   (...)\u001b[0m\n\u001b[1;32m    544\u001b[0m \u001b[39m       https://docs.scipy.org/doc/scipy/reference/sparse.html\u001b[39;00m\n\u001b[1;32m    545\u001b[0m \u001b[39m    \"\"\"\u001b[39;00m\n\u001b[0;32m--> 546\u001b[0m     \u001b[39mimport\u001b[39;00m \u001b[39mscipy\u001b[39;00m \u001b[39mas\u001b[39;00m \u001b[39msp\u001b[39;00m\n\u001b[1;32m    547\u001b[0m     \u001b[39mimport\u001b[39;00m \u001b[39mscipy\u001b[39;00m\u001b[39m.\u001b[39;00m\u001b[39msparse\u001b[39;00m  \u001b[39m# call as sp.sparse\u001b[39;00m\n\u001b[1;32m    549\u001b[0m     \u001b[39mif\u001b[39;00m \u001b[39mlen\u001b[39m(G) \u001b[39m==\u001b[39m \u001b[39m0\u001b[39m:\n",
      "\u001b[0;31mModuleNotFoundError\u001b[0m: No module named 'scipy'"
     ]
    }
   ],
   "source": [
    "import networkx, pandas, numpy\n",
    "\n",
    "nodes = list(range(100))\n",
    "\n",
    "df1 = pandas.DataFrame({'from':   numpy.random.choice(nodes, 100),\n",
    "                        'to':     numpy.random.choice(nodes, 100),\n",
    "                        'weight': numpy.random.choice(nodes, 100)\n",
    "                        })\n",
    "\n",
    "df = pandas.read_csv('GraphTest.csv')\n",
    "df = df.rename({'2': 'from', '1': 'to', '9': 'weight'}, axis = 1)\n",
    "\n",
    "Graph = networkx.from_pandas_edgelist(df, source = 'from', target = 'to', edge_attr = 'weight')\n",
    "\n",
    "pos = networkx.spring_layout(Graph, k = 10)\n",
    "networkx.draw_networkx(Graph, pos, with_labels = True)\n",
    "labels = {e: Graph.edges[e]['weight'] for e in Graph.edges}\n",
    "networkx.draw_networkx_edge_labels(Graph, pos, edge_labels = labels)"
   ]
  }
 ],
 "metadata": {
  "kernelspec": {
   "display_name": "Python 3 (ipykernel)",
   "language": "python",
   "name": "python3"
  },
  "language_info": {
   "codemirror_mode": {
    "name": "ipython",
    "version": 3
   },
   "file_extension": ".py",
   "mimetype": "text/x-python",
   "name": "python",
   "nbconvert_exporter": "python",
   "pygments_lexer": "ipython3",
   "version": "3.11.3"
  }
 },
 "nbformat": 4,
 "nbformat_minor": 5
}
